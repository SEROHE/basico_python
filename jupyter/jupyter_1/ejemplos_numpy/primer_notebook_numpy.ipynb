{
 "cells": [
  {
   "cell_type": "code",
   "execution_count": 3,
   "id": "9158e5b1-e456-49bb-b3bb-2a8ceb75dee6",
   "metadata": {},
   "outputs": [],
   "source": [
    "import numpy as np"
   ]
  },
  {
   "cell_type": "code",
   "execution_count": 4,
   "id": "69afb1be-8e77-4c0e-941a-d059c2d76a88",
   "metadata": {},
   "outputs": [
    {
     "name": "stdout",
     "output_type": "stream",
     "text": [
      "Requirement already satisfied: numpy in c:\\sw\\jupyter\\jupyter_1\\lib\\site-packages (1.26.4)\n",
      "Note: you may need to restart the kernel to use updated packages.\n"
     ]
    }
   ],
   "source": [
    "pip install numpy"
   ]
  },
  {
   "cell_type": "code",
   "execution_count": 5,
   "id": "d8b36330-e560-4997-99cc-dc098462ea99",
   "metadata": {},
   "outputs": [
    {
     "data": {
      "text/plain": [
       "'1.26.4'"
      ]
     },
     "execution_count": 5,
     "metadata": {},
     "output_type": "execute_result"
    }
   ],
   "source": [
    "np.__version__"
   ]
  },
  {
   "cell_type": "code",
   "execution_count": 6,
   "id": "81638f28-c1cc-4c96-ac73-777c7e33222e",
   "metadata": {},
   "outputs": [],
   "source": [
    "__author__ = 'kyubyong. longinglove@nate.com'"
   ]
  },
  {
   "cell_type": "code",
   "execution_count": 7,
   "id": "08e10fd7-e571-47ae-9491-1b77874fe551",
   "metadata": {},
   "outputs": [
    {
     "data": {
      "text/plain": [
       "array([[0.07370862, 0.62296633],\n",
       "       [0.0876213 , 0.63242718],\n",
       "       [0.05375028, 0.35003142]])"
      ]
     },
     "execution_count": 7,
     "metadata": {},
     "output_type": "execute_result"
    }
   ],
   "source": [
    "np.random.rand(3, 2) \n",
    "# Or np.random.random((3,2))"
   ]
  },
  {
   "cell_type": "code",
   "execution_count": 12,
   "id": "4bb7f779-2ba0-4142-bb4a-6e6fb8e0c77c",
   "metadata": {},
   "outputs": [
    {
     "name": "stdout",
     "output_type": "stream",
     "text": [
      "0.0009227349846458201\n",
      "1.0006950771146\n"
     ]
    }
   ],
   "source": [
    "out1 = np.random.randn(1000, 1000)\n",
    "out2 = np.random.standard_normal((1000, 1000))\n",
    "out3 = np.random.normal(loc=0.0, scale=1.0, size=(1000, 1000))\n",
    "assert np.allclose(np.mean(out1), np.mean(out2), atol=0.1)\n",
    "assert np.allclose(np.mean(out1), np.mean(out3), atol=0.1)\n",
    "assert np.allclose(np.std(out1), np.std(out2), atol=0.1)\n",
    "assert np.allclose(np.std(out1), np.std(out3), atol=0.1)\n",
    "print (np.mean(out3))\n",
    "print (np.std(out1))"
   ]
  },
  {
   "cell_type": "code",
   "execution_count": 13,
   "id": "494b9d65-b11a-420a-95b5-83cff5ed10c4",
   "metadata": {},
   "outputs": [
    {
     "data": {
      "text/plain": [
       "array([[2, 2],\n",
       "       [2, 3],\n",
       "       [0, 3]])"
      ]
     },
     "execution_count": 13,
     "metadata": {},
     "output_type": "execute_result"
    }
   ],
   "source": [
    "np.random.randint(0, 4, (3, 2))"
   ]
  },
  {
   "cell_type": "code",
   "execution_count": 14,
   "id": "1d732cd2-9255-46dc-9811-9468281b1e7c",
   "metadata": {},
   "outputs": [],
   "source": [
    "x = [1,2]\n",
    "y = [[4, 1], [2, 2]]\n",
    "#print np.dot(x, y)\n",
    "#print np.dot(y, x)\n",
    "#print np.matmul(x, y)\n",
    "#print np.inner(x, y)\n",
    "#print np.inner(y, x)"
   ]
  },
  {
   "cell_type": "code",
   "execution_count": 16,
   "id": "351c6e82-7904-46b3-ae60-903f40bd61fe",
   "metadata": {},
   "outputs": [
    {
     "name": "stdout",
     "output_type": "stream",
     "text": [
      "[[ 2.  0.  0.]\n",
      " [ 6.  1.  0.]\n",
      " [-8.  5.  3.]]\n"
     ]
    }
   ],
   "source": [
    "x = np.array([[4, 12, -16], [12, 37, -43], [-16, -43, 98]], dtype=np.int32)\n",
    "L = np.linalg.cholesky(x)\n",
    "print (L)\n",
    "assert np.array_equal(np.dot(L, L.T.conjugate()), x)"
   ]
  },
  {
   "cell_type": "code",
   "execution_count": 20,
   "id": "68849716-86a8-4c1f-b1ba-fe19040b4ed6",
   "metadata": {},
   "outputs": [
    {
     "name": "stdout",
     "output_type": "stream",
     "text": [
      "q=\n",
      " [[-0.85714287  0.3942857   0.33142856]\n",
      " [-0.42857143 -0.9028571  -0.03428571]\n",
      " [ 0.2857143  -0.17142858  0.94285715]] \n",
      "r=\n",
      " [[ -14.  -21.   14.]\n",
      " [   0. -175.   70.]\n",
      " [   0.    0.  -35.]]\n"
     ]
    }
   ],
   "source": [
    "x = np.array([[12, -51, 4], [6, 167, -68], [-4, 24, -41]], dtype=np.float32)\n",
    "q, r = np.linalg.qr(x)\n",
    "print(\"q=\\n\", q, \"\\nr=\\n\", r)\n",
    "assert np.allclose(np.dot(q, r), x)"
   ]
  },
  {
   "cell_type": "code",
   "execution_count": null,
   "id": "336b5d9f-c16e-4d54-bc8f-bc838e63f6a0",
   "metadata": {},
   "outputs": [],
   "source": []
  }
 ],
 "metadata": {
  "kernelspec": {
   "display_name": "Python 3 (ipykernel)",
   "language": "python",
   "name": "python3"
  },
  "language_info": {
   "codemirror_mode": {
    "name": "ipython",
    "version": 3
   },
   "file_extension": ".py",
   "mimetype": "text/x-python",
   "name": "python",
   "nbconvert_exporter": "python",
   "pygments_lexer": "ipython3",
   "version": "3.12.2"
  }
 },
 "nbformat": 4,
 "nbformat_minor": 5
}
