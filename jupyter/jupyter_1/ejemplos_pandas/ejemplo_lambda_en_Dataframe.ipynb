{
 "cells": [
  {
   "cell_type": "code",
   "execution_count": 10,
   "id": "62dba073-bbeb-4e0a-8035-93992f27cad6",
   "metadata": {
    "editable": true,
    "slideshow": {
     "slide_type": ""
    },
    "tags": []
   },
   "outputs": [
    {
     "name": "stdout",
     "output_type": "stream",
     "text": [
      "         date  weather\n",
      "0  2018-03-04   cloudy\n",
      "1  2018-03-05    sunny\n",
      "2  2018-03-06     rain\n",
      "         date  weather Is cloudy Is sunny\n",
      "0  2018-03-04   cloudy         Y        N\n",
      "1  2018-03-05    sunny         N        Y\n",
      "2  2018-03-06     rain         N        N\n",
      "0    False\n",
      "1    False\n",
      "2     True\n",
      "Name: weather, dtype: bool\n",
      "         date weather Is cloudy Is sunny\n",
      "2  2018-03-06    rain         N        N\n"
     ]
    }
   ],
   "source": [
    "import pandas as pd\n",
    "from io import StringIO\n",
    "str_data = r\"\"\"\n",
    "date,weather\n",
    "2018-03-04, cloudy\n",
    "2018-03-05, sunny\n",
    "2018-03-06, rain\n",
    "\"\"\"\n",
    "\n",
    "df = pd.read_csv(StringIO(str_data))\n",
    "print(df)\n",
    "df['Is cloudy'] = df['weather'].apply(lambda x: 'Y' if 'cloudy' in x else 'N')\n",
    "df['Is sunny'] = df['weather'].apply(lambda x: 'Y' if 'sunny' in x else 'N')\n",
    "mask=df['weather'].str.contains('r',na=False)\n",
    "print(df)\n",
    "print(df[mask])"
   ]
  },
  {
   "cell_type": "code",
   "execution_count": null,
   "id": "2d4d90b6-5b3a-437c-9802-569bd8e4fb9d",
   "metadata": {
    "editable": true,
    "slideshow": {
     "slide_type": ""
    },
    "tags": []
   },
   "outputs": [],
   "source": []
  }
 ],
 "metadata": {
  "kernelspec": {
   "display_name": "Python 3 (ipykernel)",
   "language": "python",
   "name": "python3"
  },
  "language_info": {
   "codemirror_mode": {
    "name": "ipython",
    "version": 3
   },
   "file_extension": ".py",
   "mimetype": "text/x-python",
   "name": "python",
   "nbconvert_exporter": "python",
   "pygments_lexer": "ipython3",
   "version": "3.12.2"
  }
 },
 "nbformat": 4,
 "nbformat_minor": 5
}
